{
  "nbformat": 4,
  "nbformat_minor": 0,
  "metadata": {
    "colab": {
      "provenance": [],
      "authorship_tag": "ABX9TyO3IQL7Myh9NhEth6xI3ehD",
      "include_colab_link": true
    },
    "kernelspec": {
      "name": "python3",
      "display_name": "Python 3"
    },
    "language_info": {
      "name": "python"
    }
  },
  "cells": [
    {
      "cell_type": "markdown",
      "metadata": {
        "id": "view-in-github",
        "colab_type": "text"
      },
      "source": [
        "<a href=\"https://colab.research.google.com/github/zuhaib786/Disconinuity-Identification-in-Numerical-solutions-of-DEs/blob/main/HED_Detector.ipynb\" target=\"_parent\"><img src=\"https://colab.research.google.com/assets/colab-badge.svg\" alt=\"Open In Colab\"/></a>"
      ]
    },
    {
      "cell_type": "code",
      "execution_count": 6,
      "metadata": {
        "id": "Ab8jOVSsFpm-"
      },
      "outputs": [],
      "source": [
        "import torch\n",
        "from torch import nn\n",
        "from torch.nn import Linear, Conv2d, LeakyReLU, Sigmoid\n"
      ]
    },
    {
      "cell_type": "code",
      "source": [
        "class HED(nn.Module):\n",
        "  def __init__(self, input_dim, channels = [16, 16,32,32,64,64]):\n",
        "    super(HED, self).__init__()\n",
        "    h,w,n = input_dim\n",
        "    \n",
        "    self.upperLane = nn.ModuleList(\n",
        "        [\n",
        "            nn.Conv2d(\n",
        "                in_channels = a,\n",
        "                out_channels = b,\n",
        "                kernel_size = 3,\n",
        "                padding = 'same'\n",
        "            ) \n",
        "            for (a,b) in zip([n] + channels[:-1], channels)\n",
        "        ]\n",
        "    )\n",
        "    self.middleLane = nn.ModuleList(\n",
        "        [\n",
        "            nn.Conv2d(\n",
        "                in_channels = a,\n",
        "                out_channels = 1,\n",
        "                kernel_size = 3,\n",
        "                padding = 'same'\n",
        "            )\n",
        "            for a in channels\n",
        "        ]\n",
        "    )\n",
        "    self.conv = nn.Conv2d(\n",
        "        in_channels = len(channels),\n",
        "        out_channels = 1,\n",
        "        kernel_size= 3,\n",
        "        padding = 'same'\n",
        "    )\n",
        "  def forward(self, batch):\n",
        "    '''\n",
        "    batch.shape = (None, input_dim)\n",
        "    '''\n",
        "    upperLaneOutput = []\n",
        "    for idx, layer in enumerate(self.upperLane):\n",
        "      if idx == 0:\n",
        "        upperLaneOutput = [LeakyReLU(negative_slope = 0.2)(layer(batch))]\n",
        "      else:\n",
        "        upperLaneOutput.append(layer(upperLaneOutput[-1]))\n",
        "    middleLaneOutput = [layer(upperLaneOutput[i]) for i, layer in enumerate(self.middleLane)]\n",
        "    lowerLaneOutput = [Sigmoid()(i) for i in middleLaneOutput]\n",
        "    concatenated = torch.cat(middleLaneOutput, axis = 1)\n",
        "    lowerLaneOutput.append(Sigmoid()(self.conv(concatenated)))\n",
        "    lowerLaneOutput = torch.cat(lowerLaneOutput, axis = 1)\n",
        "    return torch.mean(lowerLaneOutput,1)\n",
        "\n"
      ],
      "metadata": {
        "id": "PN42hSzkGv6L"
      },
      "execution_count": 37,
      "outputs": []
    },
    {
      "cell_type": "code",
      "source": [
        "model = HED((11, 11, 3))"
      ],
      "metadata": {
        "id": "HFOmoIy-MgdZ"
      },
      "execution_count": 38,
      "outputs": []
    },
    {
      "cell_type": "code",
      "source": [
        "print(model)"
      ],
      "metadata": {
        "colab": {
          "base_uri": "https://localhost:8080/"
        },
        "id": "v72WoOdjNrsL",
        "outputId": "5c648b35-9dd8-4a85-a23e-550454a3772d"
      },
      "execution_count": 39,
      "outputs": [
        {
          "output_type": "stream",
          "name": "stdout",
          "text": [
            "HED(\n",
            "  (upperLane): ModuleList(\n",
            "    (0): Conv2d(3, 16, kernel_size=(3, 3), stride=(1, 1), padding=same)\n",
            "    (1): Conv2d(16, 16, kernel_size=(3, 3), stride=(1, 1), padding=same)\n",
            "    (2): Conv2d(16, 32, kernel_size=(3, 3), stride=(1, 1), padding=same)\n",
            "    (3): Conv2d(32, 32, kernel_size=(3, 3), stride=(1, 1), padding=same)\n",
            "    (4): Conv2d(32, 64, kernel_size=(3, 3), stride=(1, 1), padding=same)\n",
            "    (5): Conv2d(64, 64, kernel_size=(3, 3), stride=(1, 1), padding=same)\n",
            "  )\n",
            "  (middleLane): ModuleList(\n",
            "    (0): Conv2d(16, 1, kernel_size=(3, 3), stride=(1, 1), padding=same)\n",
            "    (1): Conv2d(16, 1, kernel_size=(3, 3), stride=(1, 1), padding=same)\n",
            "    (2): Conv2d(32, 1, kernel_size=(3, 3), stride=(1, 1), padding=same)\n",
            "    (3): Conv2d(32, 1, kernel_size=(3, 3), stride=(1, 1), padding=same)\n",
            "    (4): Conv2d(64, 1, kernel_size=(3, 3), stride=(1, 1), padding=same)\n",
            "    (5): Conv2d(64, 1, kernel_size=(3, 3), stride=(1, 1), padding=same)\n",
            "  )\n",
            "  (conv): Conv2d(6, 1, kernel_size=(3, 3), stride=(1, 1), padding=same)\n",
            ")\n"
          ]
        }
      ]
    },
    {
      "cell_type": "code",
      "source": [
        "from torchsummary import summary\n",
        "summary(model, input_size = (3,11,11))"
      ],
      "metadata": {
        "colab": {
          "base_uri": "https://localhost:8080/"
        },
        "id": "M5YJk40jOSTu",
        "outputId": "a3bf162d-2d88-4a42-d68e-a375cd39e656"
      },
      "execution_count": 41,
      "outputs": [
        {
          "output_type": "stream",
          "name": "stdout",
          "text": [
            "----------------------------------------------------------------\n",
            "        Layer (type)               Output Shape         Param #\n",
            "================================================================\n",
            "            Conv2d-1           [-1, 16, 12, 12]             448\n",
            "            Conv2d-2           [-1, 16, 12, 12]           2,320\n",
            "            Conv2d-3           [-1, 32, 12, 12]           4,640\n",
            "            Conv2d-4           [-1, 32, 12, 12]           9,248\n",
            "            Conv2d-5           [-1, 64, 12, 12]          18,496\n",
            "            Conv2d-6           [-1, 64, 12, 12]          36,928\n",
            "            Conv2d-7            [-1, 1, 12, 12]             145\n",
            "            Conv2d-8            [-1, 1, 12, 12]             145\n",
            "            Conv2d-9            [-1, 1, 12, 12]             289\n",
            "           Conv2d-10            [-1, 1, 12, 12]             289\n",
            "           Conv2d-11            [-1, 1, 12, 12]             577\n",
            "           Conv2d-12            [-1, 1, 12, 12]             577\n",
            "           Conv2d-13            [-1, 1, 12, 12]              55\n",
            "================================================================\n",
            "Total params: 74,157\n",
            "Trainable params: 74,157\n",
            "Non-trainable params: 0\n",
            "----------------------------------------------------------------\n",
            "Input size (MB): 0.00\n",
            "Forward/backward pass size (MB): 0.25\n",
            "Params size (MB): 0.28\n",
            "Estimated Total Size (MB): 0.54\n",
            "----------------------------------------------------------------\n"
          ]
        }
      ]
    },
    {
      "cell_type": "code",
      "source": [],
      "metadata": {
        "id": "lrL5CwSpPI6a"
      },
      "execution_count": null,
      "outputs": []
    }
  ]
}