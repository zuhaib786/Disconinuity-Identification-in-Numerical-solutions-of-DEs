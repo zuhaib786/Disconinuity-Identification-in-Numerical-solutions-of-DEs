{
  "nbformat": 4,
  "nbformat_minor": 0,
  "metadata": {
    "colab": {
      "provenance": [],
      "authorship_tag": "ABX9TyN5QuDHQG+BMukVFSbhDYLr",
      "include_colab_link": true
    },
    "kernelspec": {
      "name": "python3",
      "display_name": "Python 3"
    },
    "language_info": {
      "name": "python"
    }
  },
  "cells": [
    {
      "cell_type": "markdown",
      "metadata": {
        "id": "view-in-github",
        "colab_type": "text"
      },
      "source": [
        "<a href=\"https://colab.research.google.com/github/zuhaib786/Disconinuity-Identification-in-Numerical-solutions-of-DEs/blob/main/1D_Discontinuity_Data_Generation.ipynb\" target=\"_parent\"><img src=\"https://colab.research.google.com/assets/colab-badge.svg\" alt=\"Open In Colab\"/></a>"
      ]
    },
    {
      "cell_type": "markdown",
      "source": [
        "# CONSTRUCTION OF A UNIVERSAL DISCONTINUITY DETECTOR USING CONVOLUTION NEURAL NETWORKS\n",
        "This notebook is for generation of 1D-discontinuity data given in the paper mentioned in the title<br>\n",
        "The generated data will be used for training a Convolutional Neural Network(CNN)<br>\n",
        "Trained CNN works very well for the data that is generated using this method<br>\n",
        "<span style=\"color:blue\"> Need to look at the performance of the trained model when input is the data generated from a numerical scheme</span> <br>\n",
        "\n"
      ],
      "metadata": {
        "id": "2JDU8Pz-TBWw"
      }
    },
    {
      "cell_type": "markdown",
      "source": [
        "# Data Generation"
      ],
      "metadata": {
        "id": "j2tcqCaQJbJS"
      }
    },
    {
      "cell_type": "code",
      "source": [
        "import numpy as np\n",
        "import pandas as pd\n",
        "import math\n",
        "import random\n",
        "class DiscontDataGenerator:\n",
        "  def __init__(self, pts = 201, N_F = 15):\n",
        "    self.M = 5\n",
        "    self.pts = pts\n",
        "    self.D = list(np.linspace(-1,1,pts))\n",
        "    self.N_F = N_F\n",
        "  def Fourier(self):\n",
        "    data = []\n",
        "    for i in range(self.N_F):\n",
        "      data.append(list(np.random.normal(0, 1, 2)))\n",
        "    return data\n",
        "  def calc(self, data, x):\n",
        "    ans = 0\n",
        "    for i, tup in enumerate(data):\n",
        "      a, b = tup\n",
        "      ans += a * np.cos((i + 1) * x) + b * np.sin((i + 1)*x)\n",
        "    return ans\n",
        "  def generate(self):\n",
        "    discont = np.random.randint(0,self.M )\n",
        "    points = random.sample(self.D[1:-1], discont)\n",
        "    points.sort()\n",
        "    i = 0 \n",
        "    temp , label = [], []\n",
        "    data = self.Fourier()\n",
        "    for j in self.D:\n",
        "      if i< discont and j >= points[i]:\n",
        "        label.append(1)\n",
        "        i += 1\n",
        "        data = self.Fourier()\n",
        "      else:\n",
        "        label.append(0)\n",
        "      temp.append(self.calc(data, j))\n",
        "    return temp, label[1:]\n",
        "      \n",
        "\n",
        "\n"
      ],
      "metadata": {
        "id": "e7WHj98yTuua"
      },
      "execution_count": null,
      "outputs": []
    },
    {
      "cell_type": "code",
      "source": [
        "a = DiscontDataGenerator()"
      ],
      "metadata": {
        "id": "HFMS8dB6YBQT"
      },
      "execution_count": null,
      "outputs": []
    },
    {
      "cell_type": "code",
      "source": [
        "import matplotlib.pyplot as plt\n",
        "\n",
        "for i in range(10):\n",
        "  input(\"Press Enter:\")\n",
        "  data, label = a.generate()\n",
        "  x = list(np.linspace(-1, 1, 201))\n",
        "  plt.scatter(x, data, s = 1)\n",
        "  x = x[:-1]\n",
        "  for i in range(len(x)):\n",
        "    if label[i] == 1:\n",
        "      plt.axvline(x[i], linewidth = 1)\n",
        "  # plt.plot(x, label)\n",
        "  plt.show()"
      ],
      "metadata": {
        "colab": {
          "base_uri": "https://localhost:8080/",
          "height": 1000
        },
        "id": "_nxSbbJQYGze",
        "outputId": "42c5cfa3-7356-43b1-80d0-0e1422cf7b46"
      },
      "execution_count": null,
      "outputs": [
        {
          "name": "stdout",
          "output_type": "stream",
          "text": [
            "Press Enter:\n"
          ]
        },
        {
          "output_type": "display_data",
          "data": {
            "text/plain": [
              "<Figure size 432x288 with 1 Axes>"
            ],
            "image/png": "[encoded data removed]"
          },
          "metadata": {
            "needs_background": "light"
          }
        },
        {
          "name": "stdout",
          "output_type": "stream",
          "text": [
            "Press Enter:\n"
          ]
        },
        {
          "output_type": "display_data",
          "data": {
            "text/plain": [
              "<Figure size 432x288 with 1 Axes>"
            ],
            "image/png": "[encoded data removed]"
          },
          "metadata": {
            "needs_background": "light"
          }
        },
        {
          "name": "stdout",
          "output_type": "stream",
          "text": [
            "Press Enter:\n"
          ]
        },
        {
          "output_type": "display_data",
          "data": {
            "text/plain": [
              "<Figure size 432x288 with 1 Axes>"
            ],
            "image/png": "[encoded data removed]"
          },
          "metadata": {
            "needs_background": "light"
          }
        },
        {
          "name": "stdout",
          "output_type": "stream",
          "text": [
            "Press Enter:\n"
          ]
        },
        {
          "output_type": "display_data",
          "data": {
            "text/plain": [
              "<Figure size 432x288 with 1 Axes>"
            ],
            "image/png": "[encoded data removed]"
          },
          "metadata": {
            "needs_background": "light"
          }
        },
        {
          "name": "stdout",
          "output_type": "stream",
          "text": [
            "Press Enter:\n"
          ]
        },
        {
          "output_type": "display_data",
          "data": {
            "text/plain": [
              "<Figure size 432x288 with 1 Axes>"
            ],
            "image/png": "[encoded data removed]"
          },
          "metadata": {
            "needs_background": "light"
          }
        },
        {
          "name": "stdout",
          "output_type": "stream",
          "text": [
            "Press Enter:\n"
          ]
        },
        {
          "output_type": "display_data",
          "data": {
            "text/plain": [
              "<Figure size 432x288 with 1 Axes>"
            ],
            "image/png": "[encoded data removed]"
          },
          "metadata": {
            "needs_background": "light"
          }
        },
        {
          "name": "stdout",
          "output_type": "stream",
          "text": [
            "Press Enter:\n"
          ]
        },
        {
          "output_type": "display_data",
          "data": {
            "text/plain": [
              "<Figure size 432x288 with 1 Axes>"
            ],
            "image/png": "[encoded data removed]"
          },
          "metadata": {
            "needs_background": "light"
          }
        },
        {
          "name": "stdout",
          "output_type": "stream",
          "text": [
            "Press Enter:\n"
          ]
        },
        {
          "output_type": "display_data",
          "data": {
            "text/plain": [
              "<Figure size 432x288 with 1 Axes>"
            ],
            "image/png": "[encoded data removed]"
          },
          "metadata": {
            "needs_background": "light"
          }
        },
        {
          "name": "stdout",
          "output_type": "stream",
          "text": [
            "Press Enter:\n"
          ]
        },
        {
          "output_type": "display_data",
          "data": {
            "text/plain": [
              "<Figure size 432x288 with 1 Axes>"
            ],
            "image/png": "[encoded data removed]"
          },
          "metadata": {
            "needs_background": "light"
          }
        },
        {
          "name": "stdout",
          "output_type": "stream",
          "text": [
            "Press Enter:\n"
          ]
        },
        {
          "output_type": "display_data",
          "data": {
            "text/plain": [
              "<Figure size 432x288 with 1 Axes>"
            ],
            "image/png": "[encoded data removed]"
          },
          "metadata": {
            "needs_background": "light"
          }
        }
      ]
    },
    {
      "cell_type": "code",
      "source": [
        "plt.axvline??"
      ],
      "metadata": {
        "id": "7Mdt1lzJrvff"
      },
      "execution_count": null,
      "outputs": []
    },
    {
      "cell_type": "code",
      "source": [
        "Di = {}\n",
        "for i in range(201):\n",
        "  Di[i] = []\n",
        "yDi = {}\n",
        "for i in range(200):\n",
        "  yDi[i] = []"
      ],
      "metadata": {
        "id": "zuoJoLT8raJs"
      },
      "execution_count": null,
      "outputs": []
    },
    {
      "cell_type": "code",
      "source": [
        "xdf = pd.DataFrame.from_dict(Di)\n",
        "ydf = pd.DataFrame.from_dict(yDi)"
      ],
      "metadata": {
        "id": "fGaDNSLmrk9C"
      },
      "execution_count": null,
      "outputs": []
    },
    {
      "cell_type": "code",
      "source": [
        "from tqdm import tqdm\n",
        "for i in tqdm(range(100000)):\n",
        "  data, label = a.generate()\n",
        "  xdf.loc[i] = data\n",
        "  ydf.loc[i] = label\n",
        "  "
      ],
      "metadata": {
        "colab": {
          "base_uri": "https://localhost:8080/",
          "height": 521
        },
        "id": "l_7f9nIIongt",
        "outputId": "a3d7e38a-9bf5-4505-f117-8dc29fdeb4bb"
      },
      "execution_count": null,
      "outputs": [
        {
          "output_type": "stream",
          "name": "stderr",
          "text": [
            " 52%|█████▏    | 51996/100000 [34:50<32:10, 24.87it/s]\n"
          ]
        },
        {
          "output_type": "error",
          "ename": "KeyboardInterrupt",
          "evalue": "ignored",
          "traceback": [
            "\u001b[0;31m---------------------------------------------------------------------------\u001b[0m",
            "\u001b[0;31mKeyError\u001b[0m                                  Traceback (most recent call last)",
            "\u001b[0;32m/usr/local/lib/python3.7/dist-packages/pandas/core/indexes/base.py\u001b[0m in \u001b[0;36mget_loc\u001b[0;34m(self, key, method, tolerance)\u001b[0m\n\u001b[1;32m   3360\u001b[0m             \u001b[0;32mtry\u001b[0m\u001b[0;34m:\u001b[0m\u001b[0;34m\u001b[0m\u001b[0;34m\u001b[0m\u001b[0m\n\u001b[0;32m-> 3361\u001b[0;31m                 \u001b[0;32mreturn\u001b[0m \u001b[0mself\u001b[0m\u001b[0;34m.\u001b[0m\u001b[0m_engine\u001b[0m\u001b[0;34m.\u001b[0m\u001b[0mget_loc\u001b[0m\u001b[0;34m(\u001b[0m\u001b[0mcasted_key\u001b[0m\u001b[0;34m)\u001b[0m\u001b[0;34m\u001b[0m\u001b[0;34m\u001b[0m\u001b[0m\n\u001b[0m\u001b[1;32m   3362\u001b[0m             \u001b[0;32mexcept\u001b[0m \u001b[0mKeyError\u001b[0m \u001b[0;32mas\u001b[0m \u001b[0merr\u001b[0m\u001b[0;34m:\u001b[0m\u001b[0;34m\u001b[0m\u001b[0;34m\u001b[0m\u001b[0m\n",
            "\u001b[0;32m/usr/local/lib/python3.7/dist-packages/pandas/_libs/index.pyx\u001b[0m in \u001b[0;36mpandas._libs.index.IndexEngine.get_loc\u001b[0;34m()\u001b[0m\n",
            "\u001b[0;32m/usr/local/lib/python3.7/dist-packages/pandas/_libs/index.pyx\u001b[0m in \u001b[0;36mpandas._libs.index.IndexEngine.get_loc\u001b[0;34m()\u001b[0m\n",
            "\u001b[0;32mpandas/_libs/hashtable_class_helper.pxi\u001b[0m in \u001b[0;36mpandas._libs.hashtable.Int64HashTable.get_item\u001b[0;34m()\u001b[0m\n",
            "\u001b[0;32mpandas/_libs/hashtable_class_helper.pxi\u001b[0m in \u001b[0;36mpandas._libs.hashtable.Int64HashTable.get_item\u001b[0;34m()\u001b[0m\n",
            "\u001b[0;31mKeyError\u001b[0m: 51996",
            "\nDuring handling of the above exception, another exception occurred:\n",
            "\u001b[0;31mKeyboardInterrupt\u001b[0m                         Traceback (most recent call last)",
            "\u001b[0;32m<ipython-input-42-d6e499c49766>\u001b[0m in \u001b[0;36m<module>\u001b[0;34m\u001b[0m\n\u001b[1;32m      3\u001b[0m   \u001b[0mdata\u001b[0m\u001b[0;34m,\u001b[0m \u001b[0mlabel\u001b[0m \u001b[0;34m=\u001b[0m \u001b[0ma\u001b[0m\u001b[0;34m.\u001b[0m\u001b[0mgenerate\u001b[0m\u001b[0;34m(\u001b[0m\u001b[0;34m)\u001b[0m\u001b[0;34m\u001b[0m\u001b[0;34m\u001b[0m\u001b[0m\n\u001b[1;32m      4\u001b[0m   \u001b[0mxdf\u001b[0m\u001b[0;34m.\u001b[0m\u001b[0mloc\u001b[0m\u001b[0;34m[\u001b[0m\u001b[0mi\u001b[0m\u001b[0;34m]\u001b[0m \u001b[0;34m=\u001b[0m \u001b[0mdata\u001b[0m\u001b[0;34m\u001b[0m\u001b[0;34m\u001b[0m\u001b[0m\n\u001b[0;32m----> 5\u001b[0;31m   \u001b[0mydf\u001b[0m\u001b[0;34m.\u001b[0m\u001b[0mloc\u001b[0m\u001b[0;34m[\u001b[0m\u001b[0mi\u001b[0m\u001b[0;34m]\u001b[0m \u001b[0;34m=\u001b[0m \u001b[0mlabel\u001b[0m\u001b[0;34m\u001b[0m\u001b[0;34m\u001b[0m\u001b[0m\n\u001b[0m\u001b[1;32m      6\u001b[0m \u001b[0;34m\u001b[0m\u001b[0m\n",
            "\u001b[0;32m/usr/local/lib/python3.7/dist-packages/pandas/core/indexing.py\u001b[0m in \u001b[0;36m__setitem__\u001b[0;34m(self, key, value)\u001b[0m\n\u001b[1;32m    717\u001b[0m         \u001b[0;32melse\u001b[0m\u001b[0;34m:\u001b[0m\u001b[0;34m\u001b[0m\u001b[0;34m\u001b[0m\u001b[0m\n\u001b[1;32m    718\u001b[0m             \u001b[0mkey\u001b[0m \u001b[0;34m=\u001b[0m \u001b[0mcom\u001b[0m\u001b[0;34m.\u001b[0m\u001b[0mapply_if_callable\u001b[0m\u001b[0;34m(\u001b[0m\u001b[0mkey\u001b[0m\u001b[0;34m,\u001b[0m \u001b[0mself\u001b[0m\u001b[0;34m.\u001b[0m\u001b[0mobj\u001b[0m\u001b[0;34m)\u001b[0m\u001b[0;34m\u001b[0m\u001b[0;34m\u001b[0m\u001b[0m\n\u001b[0;32m--> 719\u001b[0;31m         \u001b[0mindexer\u001b[0m \u001b[0;34m=\u001b[0m \u001b[0mself\u001b[0m\u001b[0;34m.\u001b[0m\u001b[0m_get_setitem_indexer\u001b[0m\u001b[0;34m(\u001b[0m\u001b[0mkey\u001b[0m\u001b[0;34m)\u001b[0m\u001b[0;34m\u001b[0m\u001b[0;34m\u001b[0m\u001b[0m\n\u001b[0m\u001b[1;32m    720\u001b[0m         \u001b[0mself\u001b[0m\u001b[0;34m.\u001b[0m\u001b[0m_has_valid_setitem_indexer\u001b[0m\u001b[0;34m(\u001b[0m\u001b[0mkey\u001b[0m\u001b[0;34m)\u001b[0m\u001b[0;34m\u001b[0m\u001b[0;34m\u001b[0m\u001b[0m\n\u001b[1;32m    721\u001b[0m \u001b[0;34m\u001b[0m\u001b[0m\n",
            "\u001b[0;32m/usr/local/lib/python3.7/dist-packages/pandas/core/indexing.py\u001b[0m in \u001b[0;36m_get_setitem_indexer\u001b[0;34m(self, key)\u001b[0m\n\u001b[1;32m    664\u001b[0m \u001b[0;34m\u001b[0m\u001b[0m\n\u001b[1;32m    665\u001b[0m         \u001b[0;32mtry\u001b[0m\u001b[0;34m:\u001b[0m\u001b[0;34m\u001b[0m\u001b[0;34m\u001b[0m\u001b[0m\n\u001b[0;32m--> 666\u001b[0;31m             \u001b[0;32mreturn\u001b[0m \u001b[0mself\u001b[0m\u001b[0;34m.\u001b[0m\u001b[0m_convert_to_indexer\u001b[0m\u001b[0;34m(\u001b[0m\u001b[0mkey\u001b[0m\u001b[0;34m,\u001b[0m \u001b[0maxis\u001b[0m\u001b[0;34m=\u001b[0m\u001b[0;36m0\u001b[0m\u001b[0;34m,\u001b[0m \u001b[0mis_setter\u001b[0m\u001b[0;34m=\u001b[0m\u001b[0;32mTrue\u001b[0m\u001b[0;34m)\u001b[0m\u001b[0;34m\u001b[0m\u001b[0;34m\u001b[0m\u001b[0m\n\u001b[0m\u001b[1;32m    667\u001b[0m         \u001b[0;32mexcept\u001b[0m \u001b[0mTypeError\u001b[0m \u001b[0;32mas\u001b[0m \u001b[0me\u001b[0m\u001b[0;34m:\u001b[0m\u001b[0;34m\u001b[0m\u001b[0;34m\u001b[0m\u001b[0m\n\u001b[1;32m    668\u001b[0m \u001b[0;34m\u001b[0m\u001b[0m\n",
            "\u001b[0;32m/usr/local/lib/python3.7/dist-packages/pandas/core/indexing.py\u001b[0m in \u001b[0;36m_convert_to_indexer\u001b[0;34m(self, key, axis, is_setter)\u001b[0m\n\u001b[1;32m   1212\u001b[0m             \u001b[0;31m# if we are a label return me\u001b[0m\u001b[0;34m\u001b[0m\u001b[0;34m\u001b[0m\u001b[0;34m\u001b[0m\u001b[0m\n\u001b[1;32m   1213\u001b[0m             \u001b[0;32mtry\u001b[0m\u001b[0;34m:\u001b[0m\u001b[0;34m\u001b[0m\u001b[0;34m\u001b[0m\u001b[0m\n\u001b[0;32m-> 1214\u001b[0;31m                 \u001b[0;32mreturn\u001b[0m \u001b[0mlabels\u001b[0m\u001b[0;34m.\u001b[0m\u001b[0mget_loc\u001b[0m\u001b[0;34m(\u001b[0m\u001b[0mkey\u001b[0m\u001b[0;34m)\u001b[0m\u001b[0;34m\u001b[0m\u001b[0;34m\u001b[0m\u001b[0m\n\u001b[0m\u001b[1;32m   1215\u001b[0m             \u001b[0;32mexcept\u001b[0m \u001b[0mLookupError\u001b[0m\u001b[0;34m:\u001b[0m\u001b[0;34m\u001b[0m\u001b[0;34m\u001b[0m\u001b[0m\n\u001b[1;32m   1216\u001b[0m                 \u001b[0;32mif\u001b[0m \u001b[0misinstance\u001b[0m\u001b[0;34m(\u001b[0m\u001b[0mkey\u001b[0m\u001b[0;34m,\u001b[0m \u001b[0mtuple\u001b[0m\u001b[0;34m)\u001b[0m \u001b[0;32mand\u001b[0m \u001b[0misinstance\u001b[0m\u001b[0;34m(\u001b[0m\u001b[0mlabels\u001b[0m\u001b[0;34m,\u001b[0m \u001b[0mMultiIndex\u001b[0m\u001b[0;34m)\u001b[0m\u001b[0;34m:\u001b[0m\u001b[0;34m\u001b[0m\u001b[0;34m\u001b[0m\u001b[0m\n",
            "\u001b[0;32m/usr/local/lib/python3.7/dist-packages/pandas/core/indexes/base.py\u001b[0m in \u001b[0;36mget_loc\u001b[0;34m(self, key, method, tolerance)\u001b[0m\n\u001b[1;32m   3359\u001b[0m             \u001b[0mcasted_key\u001b[0m \u001b[0;34m=\u001b[0m \u001b[0mself\u001b[0m\u001b[0;34m.\u001b[0m\u001b[0m_maybe_cast_indexer\u001b[0m\u001b[0;34m(\u001b[0m\u001b[0mkey\u001b[0m\u001b[0;34m)\u001b[0m\u001b[0;34m\u001b[0m\u001b[0;34m\u001b[0m\u001b[0m\n\u001b[1;32m   3360\u001b[0m             \u001b[0;32mtry\u001b[0m\u001b[0;34m:\u001b[0m\u001b[0;34m\u001b[0m\u001b[0;34m\u001b[0m\u001b[0m\n\u001b[0;32m-> 3361\u001b[0;31m                 \u001b[0;32mreturn\u001b[0m \u001b[0mself\u001b[0m\u001b[0;34m.\u001b[0m\u001b[0m_engine\u001b[0m\u001b[0;34m.\u001b[0m\u001b[0mget_loc\u001b[0m\u001b[0;34m(\u001b[0m\u001b[0mcasted_key\u001b[0m\u001b[0;34m)\u001b[0m\u001b[0;34m\u001b[0m\u001b[0;34m\u001b[0m\u001b[0m\n\u001b[0m\u001b[1;32m   3362\u001b[0m             \u001b[0;32mexcept\u001b[0m \u001b[0mKeyError\u001b[0m \u001b[0;32mas\u001b[0m \u001b[0merr\u001b[0m\u001b[0;34m:\u001b[0m\u001b[0;34m\u001b[0m\u001b[0;34m\u001b[0m\u001b[0m\n\u001b[1;32m   3363\u001b[0m                 \u001b[0;32mraise\u001b[0m \u001b[0mKeyError\u001b[0m\u001b[0;34m(\u001b[0m\u001b[0mkey\u001b[0m\u001b[0;34m)\u001b[0m \u001b[0;32mfrom\u001b[0m \u001b[0merr\u001b[0m\u001b[0;34m\u001b[0m\u001b[0;34m\u001b[0m\u001b[0m\n",
            "\u001b[0;31mKeyboardInterrupt\u001b[0m: "
          ]
        }
      ]
    },
    {
      "cell_type": "code",
      "source": [
        "xdf"
      ],
      "metadata": {
        "colab": {
          "base_uri": "https://localhost:8080/",
          "height": 456
        },
        "id": "YgsWTKC8sPiF",
        "outputId": "abd2f965-5251-42f4-ecb3-e146155195d9"
      },
      "execution_count": null,
      "outputs": [
        {
          "output_type": "execute_result",
          "data": {
            "text/plain": [
              "        0         1         2         3         4         5         6    \\\n",
              "0  4.177173  4.593735  5.020929  5.453859  5.887436  6.316460  6.735708   \n",
              "1 -9.369195 -8.980574 -8.567581 -8.135398 -7.689225 -7.234204 -6.775337   \n",
              "2 -3.164926 -3.017594 -2.839179 -2.635431 -2.412726 -2.177934 -1.938284   \n",
              "3  1.201557  1.235219  1.237661  1.206570  1.140175  1.037306  0.897454   \n",
              "4 -2.840480 -3.272119 -3.683944 -4.069054 -4.421153 -4.734666 -5.004836   \n",
              "5  2.491271  2.811240  3.079165  3.288882  3.435044  3.513214  3.519945   \n",
              "6 -1.573663 -1.271924 -0.947019 -0.606539 -0.258011  0.091252  0.434287   \n",
              "7 -3.483700 -3.750420 -3.986078 -4.184516 -4.340142 -4.448066 -4.504216   \n",
              "8 -1.500481 -1.892507 -2.250599 -2.569970 -2.846497 -3.076801 -3.258311   \n",
              "9  0.322084  0.435571  0.505144  0.529179  0.506991  0.438868  0.326069   \n",
              "\n",
              "        7         8         9    ...       191       192       193       194  \\\n",
              "0  7.140014  7.524356  7.883938  ... -1.046727 -1.654257 -2.317219 -3.026040   \n",
              "1 -6.317419 -5.864966 -5.422156  ...  5.332273  5.417316  5.472588  5.497061   \n",
              "2 -1.701215 -1.474230 -1.264740  ...  0.923961  1.071539  1.186442  1.267925   \n",
              "3  0.720803  0.508263  3.381105  ...  1.861799  2.336091  2.797357  3.238780   \n",
              "4 -5.227810 -5.400697 -5.521612  ...  3.098737  3.313762  3.506072  3.670890   \n",
              "5  3.452853  3.310659  3.093225  ...  2.918585  2.899309  2.882634  2.866678   \n",
              "6  0.764606  1.076312  1.364186  ... -0.596325 -0.836979 -1.037639 -1.195816   \n",
              "7 -4.505435 -4.449577 -4.335560  ...  1.817628  2.166937  2.490783  2.785007   \n",
              "8 -3.389311 -3.468983 -3.497415  ...  1.051319  0.782648  0.480032  0.148371   \n",
              "9  0.170821 -0.023721 -0.253522  ... -0.510373 -0.434811 -0.318082 -0.154821   \n",
              "\n",
              "        195       196       197       198       199       200  \n",
              "0 -3.770101 -4.537903 -5.317263 -6.095516 -6.859736 -7.596964  \n",
              "1  5.489774  5.449876  5.376658  5.269591  5.128361  4.952909  \n",
              "2  1.315801  1.330411  1.312582  1.263583  1.185064  1.079006  \n",
              "3  3.653631  4.035360  4.377692  4.674721  4.921007  5.111664  \n",
              "4  3.803584  3.899787  3.955511  3.967256  3.932113  3.847857  \n",
              "5  2.849244  2.827881  2.799961  2.762748  2.713488  2.649484  \n",
              "6 -1.309787 -1.378623 -1.402199 -1.381192 -1.317056 -1.211994  \n",
              "7  3.045817  3.269870  3.454340  3.596983  3.696183  3.750996  \n",
              "8 -0.206655 -0.578702 -0.960903 -1.346021 -1.726609 -2.095178  \n",
              "9  0.059573  0.328785  0.655450  1.041040  1.485773  1.988548  \n",
              "\n",
              "[10 rows x 201 columns]"
            ],
            "text/html": [
              "\n",
              "  <div id=\"df-956d2222-2e27-46d8-87a5-9e3879f493ab\">\n",
              "    <div class=\"colab-df-container\">\n",
              "      <div>\n",
              "<style scoped>\n",
              "    .dataframe tbody tr th:only-of-type {\n",
              "        vertical-align: middle;\n",
              "    }\n",
              "\n",
              "    .dataframe tbody tr th {\n",
              "        vertical-align: top;\n",
              "    }\n",
              "\n",
              "    .dataframe thead th {\n",
              "        text-align: right;\n",
              "    }\n",
              "</style>\n",
              "<table border=\"1\" class=\"dataframe\">\n",
              "  <thead>\n",
              "    <tr style=\"text-align: right;\">\n",
              "      <th></th>\n",
              "      <th>0</th>\n",
              "      <th>1</th>\n",
              "      <th>2</th>\n",
              "      <th>3</th>\n",
              "      <th>4</th>\n",
              "      <th>5</th>\n",
              "      <th>6</th>\n",
              "      <th>7</th>\n",
              "      <th>8</th>\n",
              "      <th>9</th>\n",
              "      <th>...</th>\n",
              "      <th>191</th>\n",
              "      <th>192</th>\n",
              "      <th>193</th>\n",
              "      <th>194</th>\n",
              "      <th>195</th>\n",
              "      <th>196</th>\n",
              "      <th>197</th>\n",
              "      <th>198</th>\n",
              "      <th>199</th>\n",
              "      <th>200</th>\n",
              "    </tr>\n",
              "  </thead>\n",
              "  <tbody>\n",
              "    <tr>\n",
              "      <th>0</th>\n",
              "      <td>4.177173</td>\n",
              "      <td>4.593735</td>\n",
              "      <td>5.020929</td>\n",
              "      <td>5.453859</td>\n",
              "      <td>5.887436</td>\n",
              "      <td>6.316460</td>\n",
              "      <td>6.735708</td>\n",
              "      <td>7.140014</td>\n",
              "      <td>7.524356</td>\n",
              "      <td>7.883938</td>\n",
              "      <td>...</td>\n",
              "      <td>-1.046727</td>\n",
              "      <td>-1.654257</td>\n",
              "      <td>-2.317219</td>\n",
              "      <td>-3.026040</td>\n",
              "      <td>-3.770101</td>\n",
              "      <td>-4.537903</td>\n",
              "      <td>-5.317263</td>\n",
              "      <td>-6.095516</td>\n",
              "      <td>-6.859736</td>\n",
              "      <td>-7.596964</td>\n",
              "    </tr>\n",
              "    <tr>\n",
              "      <th>1</th>\n",
              "      <td>-9.369195</td>\n",
              "      <td>-8.980574</td>\n",
              "      <td>-8.567581</td>\n",
              "      <td>-8.135398</td>\n",
              "      <td>-7.689225</td>\n",
              "      <td>-7.234204</td>\n",
              "      <td>-6.775337</td>\n",
              "      <td>-6.317419</td>\n",
              "      <td>-5.864966</td>\n",
              "      <td>-5.422156</td>\n",
              "      <td>...</td>\n",
              "      <td>5.332273</td>\n",
              "      <td>5.417316</td>\n",
              "      <td>5.472588</td>\n",
              "      <td>5.497061</td>\n",
              "      <td>5.489774</td>\n",
              "      <td>5.449876</td>\n",
              "      <td>5.376658</td>\n",
              "      <td>5.269591</td>\n",
              "      <td>5.128361</td>\n",
              "      <td>4.952909</td>\n",
              "    </tr>\n",
              "    <tr>\n",
              "      <th>2</th>\n",
              "      <td>-3.164926</td>\n",
              "      <td>-3.017594</td>\n",
              "      <td>-2.839179</td>\n",
              "      <td>-2.635431</td>\n",
              "      <td>-2.412726</td>\n",
              "      <td>-2.177934</td>\n",
              "      <td>-1.938284</td>\n",
              "      <td>-1.701215</td>\n",
              "      <td>-1.474230</td>\n",
              "      <td>-1.264740</td>\n",
              "      <td>...</td>\n",
              "      <td>0.923961</td>\n",
              "      <td>1.071539</td>\n",
              "      <td>1.186442</td>\n",
              "      <td>1.267925</td>\n",
              "      <td>1.315801</td>\n",
              "      <td>1.330411</td>\n",
              "      <td>1.312582</td>\n",
              "      <td>1.263583</td>\n",
              "      <td>1.185064</td>\n",
              "      <td>1.079006</td>\n",
              "    </tr>\n",
              "    <tr>\n",
              "      <th>3</th>\n",
              "      <td>1.201557</td>\n",
              "      <td>1.235219</td>\n",
              "      <td>1.237661</td>\n",
              "      <td>1.206570</td>\n",
              "      <td>1.140175</td>\n",
              "      <td>1.037306</td>\n",
              "      <td>0.897454</td>\n",
              "      <td>0.720803</td>\n",
              "      <td>0.508263</td>\n",
              "      <td>3.381105</td>\n",
              "      <td>...</td>\n",
              "      <td>1.861799</td>\n",
              "      <td>2.336091</td>\n",
              "      <td>2.797357</td>\n",
              "      <td>3.238780</td>\n",
              "      <td>3.653631</td>\n",
              "      <td>4.035360</td>\n",
              "      <td>4.377692</td>\n",
              "      <td>4.674721</td>\n",
              "      <td>4.921007</td>\n",
              "      <td>5.111664</td>\n",
              "    </tr>\n",
              "    <tr>\n",
              "      <th>4</th>\n",
              "      <td>-2.840480</td>\n",
              "      <td>-3.272119</td>\n",
              "      <td>-3.683944</td>\n",
              "      <td>-4.069054</td>\n",
              "      <td>-4.421153</td>\n",
              "      <td>-4.734666</td>\n",
              "      <td>-5.004836</td>\n",
              "      <td>-5.227810</td>\n",
              "      <td>-5.400697</td>\n",
              "      <td>-5.521612</td>\n",
              "      <td>...</td>\n",
              "      <td>3.098737</td>\n",
              "      <td>3.313762</td>\n",
              "      <td>3.506072</td>\n",
              "      <td>3.670890</td>\n",
              "      <td>3.803584</td>\n",
              "      <td>3.899787</td>\n",
              "      <td>3.955511</td>\n",
              "      <td>3.967256</td>\n",
              "      <td>3.932113</td>\n",
              "      <td>3.847857</td>\n",
              "    </tr>\n",
              "    <tr>\n",
              "      <th>5</th>\n",
              "      <td>2.491271</td>\n",
              "      <td>2.811240</td>\n",
              "      <td>3.079165</td>\n",
              "      <td>3.288882</td>\n",
              "      <td>3.435044</td>\n",
              "      <td>3.513214</td>\n",
              "      <td>3.519945</td>\n",
              "      <td>3.452853</td>\n",
              "      <td>3.310659</td>\n",
              "      <td>3.093225</td>\n",
              "      <td>...</td>\n",
              "      <td>2.918585</td>\n",
              "      <td>2.899309</td>\n",
              "      <td>2.882634</td>\n",
              "      <td>2.866678</td>\n",
              "      <td>2.849244</td>\n",
              "      <td>2.827881</td>\n",
              "      <td>2.799961</td>\n",
              "      <td>2.762748</td>\n",
              "      <td>2.713488</td>\n",
              "      <td>2.649484</td>\n",
              "    </tr>\n",
              "    <tr>\n",
              "      <th>6</th>\n",
              "      <td>-1.573663</td>\n",
              "      <td>-1.271924</td>\n",
              "      <td>-0.947019</td>\n",
              "      <td>-0.606539</td>\n",
              "      <td>-0.258011</td>\n",
              "      <td>0.091252</td>\n",
              "      <td>0.434287</td>\n",
              "      <td>0.764606</td>\n",
              "      <td>1.076312</td>\n",
              "      <td>1.364186</td>\n",
              "      <td>...</td>\n",
              "      <td>-0.596325</td>\n",
              "      <td>-0.836979</td>\n",
              "      <td>-1.037639</td>\n",
              "      <td>-1.195816</td>\n",
              "      <td>-1.309787</td>\n",
              "      <td>-1.378623</td>\n",
              "      <td>-1.402199</td>\n",
              "      <td>-1.381192</td>\n",
              "      <td>-1.317056</td>\n",
              "      <td>-1.211994</td>\n",
              "    </tr>\n",
              "    <tr>\n",
              "      <th>7</th>\n",
              "      <td>-3.483700</td>\n",
              "      <td>-3.750420</td>\n",
              "      <td>-3.986078</td>\n",
              "      <td>-4.184516</td>\n",
              "      <td>-4.340142</td>\n",
              "      <td>-4.448066</td>\n",
              "      <td>-4.504216</td>\n",
              "      <td>-4.505435</td>\n",
              "      <td>-4.449577</td>\n",
              "      <td>-4.335560</td>\n",
              "      <td>...</td>\n",
              "      <td>1.817628</td>\n",
              "      <td>2.166937</td>\n",
              "      <td>2.490783</td>\n",
              "      <td>2.785007</td>\n",
              "      <td>3.045817</td>\n",
              "      <td>3.269870</td>\n",
              "      <td>3.454340</td>\n",
              "      <td>3.596983</td>\n",
              "      <td>3.696183</td>\n",
              "      <td>3.750996</td>\n",
              "    </tr>\n",
              "    <tr>\n",
              "      <th>8</th>\n",
              "      <td>-1.500481</td>\n",
              "      <td>-1.892507</td>\n",
              "      <td>-2.250599</td>\n",
              "      <td>-2.569970</td>\n",
              "      <td>-2.846497</td>\n",
              "      <td>-3.076801</td>\n",
              "      <td>-3.258311</td>\n",
              "      <td>-3.389311</td>\n",
              "      <td>-3.468983</td>\n",
              "      <td>-3.497415</td>\n",
              "      <td>...</td>\n",
              "      <td>1.051319</td>\n",
              "      <td>0.782648</td>\n",
              "      <td>0.480032</td>\n",
              "      <td>0.148371</td>\n",
              "      <td>-0.206655</td>\n",
              "      <td>-0.578702</td>\n",
              "      <td>-0.960903</td>\n",
              "      <td>-1.346021</td>\n",
              "      <td>-1.726609</td>\n",
              "      <td>-2.095178</td>\n",
              "    </tr>\n",
              "    <tr>\n",
              "      <th>9</th>\n",
              "      <td>0.322084</td>\n",
              "      <td>0.435571</td>\n",
              "      <td>0.505144</td>\n",
              "      <td>0.529179</td>\n",
              "      <td>0.506991</td>\n",
              "      <td>0.438868</td>\n",
              "      <td>0.326069</td>\n",
              "      <td>0.170821</td>\n",
              "      <td>-0.023721</td>\n",
              "      <td>-0.253522</td>\n",
              "      <td>...</td>\n",
              "      <td>-0.510373</td>\n",
              "      <td>-0.434811</td>\n",
              "      <td>-0.318082</td>\n",
              "      <td>-0.154821</td>\n",
              "      <td>0.059573</td>\n",
              "      <td>0.328785</td>\n",
              "      <td>0.655450</td>\n",
              "      <td>1.041040</td>\n",
              "      <td>1.485773</td>\n",
              "      <td>1.988548</td>\n",
              "    </tr>\n",
              "  </tbody>\n",
              "</table>\n",
              "<p>10 rows × 201 columns</p>\n",
              "</div>\n",
              "      <button class=\"colab-df-convert\" onclick=\"convertToInteractive('df-956d2222-2e27-46d8-87a5-9e3879f493ab')\"\n",
              "              title=\"Convert this dataframe to an interactive table.\"\n",
              "              style=\"display:none;\">\n",
              "        \n",
              "  <svg xmlns=\"http://www.w3.org/2000/svg\" height=\"24px\"viewBox=\"0 0 24 24\"\n",
              "       width=\"24px\">\n",
              "    <path d=\"M0 0h24v24H0V0z\" fill=\"none\"/>\n",
              "    <path d=\"M18.56 5.44l.94 2.06.94-2.06 2.06-.94-2.06-.94-.94-2.06-.94 2.06-2.06.94zm-11 1L8.5 8.5l.94-2.06 2.06-.94-2.06-.94L8.5 2.5l-.94 2.06-2.06.94zm10 10l.94 2.06.94-2.06 2.06-.94-2.06-.94-.94-2.06-.94 2.06-2.06.94z\"/><path d=\"M17.41 7.96l-1.37-1.37c-.4-.4-.92-.59-1.43-.59-.52 0-1.04.2-1.43.59L10.3 9.45l-7.72 7.72c-.78.78-.78 2.05 0 2.83L4 21.41c.39.39.9.59 1.41.59.51 0 1.02-.2 1.41-.59l7.78-7.78 2.81-2.81c.8-.78.8-2.07 0-2.86zM5.41 20L4 18.59l7.72-7.72 1.47 1.35L5.41 20z\"/>\n",
              "  </svg>\n",
              "      </button>\n",
              "      \n",
              "  <style>\n",
              "    .colab-df-container {\n",
              "      display:flex;\n",
              "      flex-wrap:wrap;\n",
              "      gap: 12px;\n",
              "    }\n",
              "\n",
              "    .colab-df-convert {\n",
              "      background-color: #E8F0FE;\n",
              "      border: none;\n",
              "      border-radius: 50%;\n",
              "      cursor: pointer;\n",
              "      display: none;\n",
              "      fill: #1967D2;\n",
              "      height: 32px;\n",
              "      padding: 0 0 0 0;\n",
              "      width: 32px;\n",
              "    }\n",
              "\n",
              "    .colab-df-convert:hover {\n",
              "      background-color: #E2EBFA;\n",
              "      box-shadow: 0px 1px 2px rgba(60, 64, 67, 0.3), 0px 1px 3px 1px rgba(60, 64, 67, 0.15);\n",
              "      fill: #174EA6;\n",
              "    }\n",
              "\n",
              "    [theme=dark] .colab-df-convert {\n",
              "      background-color: #3B4455;\n",
              "      fill: #D2E3FC;\n",
              "    }\n",
              "\n",
              "    [theme=dark] .colab-df-convert:hover {\n",
              "      background-color: #434B5C;\n",
              "      box-shadow: 0px 1px 3px 1px rgba(0, 0, 0, 0.15);\n",
              "      filter: drop-shadow(0px 1px 2px rgba(0, 0, 0, 0.3));\n",
              "      fill: #FFFFFF;\n",
              "    }\n",
              "  </style>\n",
              "\n",
              "      <script>\n",
              "        const buttonEl =\n",
              "          document.querySelector('#df-956d2222-2e27-46d8-87a5-9e3879f493ab button.colab-df-convert');\n",
              "        buttonEl.style.display =\n",
              "          google.colab.kernel.accessAllowed ? 'block' : 'none';\n",
              "\n",
              "        async function convertToInteractive(key) {\n",
              "          const element = document.querySelector('#df-956d2222-2e27-46d8-87a5-9e3879f493ab');\n",
              "          const dataTable =\n",
              "            await google.colab.kernel.invokeFunction('convertToInteractive',\n",
              "                                                     [key], {});\n",
              "          if (!dataTable) return;\n",
              "\n",
              "          const docLinkHtml = 'Like what you see? Visit the ' +\n",
              "            '<a target=\"_blank\" href=https://colab.research.google.com/notebooks/data_table.ipynb>data table notebook</a>'\n",
              "            + ' to learn more about interactive tables.';\n",
              "          element.innerHTML = '';\n",
              "          dataTable['output_type'] = 'display_data';\n",
              "          await google.colab.output.renderOutput(dataTable, element);\n",
              "          const docLink = document.createElement('div');\n",
              "          docLink.innerHTML = docLinkHtml;\n",
              "          element.appendChild(docLink);\n",
              "        }\n",
              "      </script>\n",
              "    </div>\n",
              "  </div>\n",
              "  "
            ]
          },
          "metadata": {},
          "execution_count": 39
        }
      ]
    },
    {
      "cell_type": "code",
      "source": [
        "len(xdf)"
      ],
      "metadata": {
        "colab": {
          "base_uri": "https://localhost:8080/"
        },
        "id": "dJwnNjF-saCV",
        "outputId": "a592f910-2428-4499-9092-3c3a002037e6"
      },
      "execution_count": null,
      "outputs": [
        {
          "output_type": "execute_result",
          "data": {
            "text/plain": [
              "51997"
            ]
          },
          "metadata": {},
          "execution_count": 43
        }
      ]
    },
    {
      "cell_type": "code",
      "source": [
        "len(ydf)"
      ],
      "metadata": {
        "colab": {
          "base_uri": "https://localhost:8080/"
        },
        "id": "H7eLnvrX0dJY",
        "outputId": "c164cd3a-97c8-4292-bf16-ca7e284bc9b2"
      },
      "execution_count": null,
      "outputs": [
        {
          "output_type": "execute_result",
          "data": {
            "text/plain": [
              "51996"
            ]
          },
          "metadata": {},
          "execution_count": 44
        }
      ]
    },
    {
      "cell_type": "code",
      "source": [
        "xdf.drop(xdf.tail(1).index,inplace=True) # drop last n rows"
      ],
      "metadata": {
        "id": "mNujOZZd0ehe"
      },
      "execution_count": null,
      "outputs": []
    },
    {
      "cell_type": "code",
      "source": [
        "len(xdf)"
      ],
      "metadata": {
        "colab": {
          "base_uri": "https://localhost:8080/"
        },
        "id": "iGA8Kbve0oPe",
        "outputId": "bb401a44-3ac6-4d58-97ad-9e7d76073668"
      },
      "execution_count": null,
      "outputs": [
        {
          "output_type": "execute_result",
          "data": {
            "text/plain": [
              "51996"
            ]
          },
          "metadata": {},
          "execution_count": 46
        }
      ]
    },
    {
      "cell_type": "code",
      "source": [
        "data = xdf.iloc[1].values"
      ],
      "metadata": {
        "id": "G1zworir0pxc"
      },
      "execution_count": null,
      "outputs": []
    },
    {
      "cell_type": "code",
      "source": [
        "label = ydf.iloc[1].values"
      ],
      "metadata": {
        "id": "Ji7r0nZY0w3_"
      },
      "execution_count": null,
      "outputs": []
    },
    {
      "cell_type": "code",
      "source": [],
      "metadata": {
        "colab": {
          "base_uri": "https://localhost:8080/",
          "height": 265
        },
        "id": "IkIKL_Mx02z0",
        "outputId": "262d4ecd-afd2-4963-9823-858e1e95cbc0"
      },
      "execution_count": null,
      "outputs": [
        {
          "output_type": "display_data",
          "data": {
            "text/plain": [
              "<Figure size 432x288 with 1 Axes>"
            ],
            "image/png": "[encoded data removed]"
          },
          "metadata": {
            "needs_background": "light"
          }
        }
      ]
    },
    {
      "cell_type": "code",
      "source": [
        "xdf.to_csv(\"Data.csv\")\n",
        "ydf.to_csv(\"Label.csv\")\n"
      ],
      "metadata": {
        "id": "j-uZPxg10-Hm"
      },
      "execution_count": null,
      "outputs": []
    },
    {
      "cell_type": "code",
      "source": [
        "from google.colab import drive\n",
        "drive.mount('gdrive')"
      ],
      "metadata": {
        "colab": {
          "base_uri": "https://localhost:8080/"
        },
        "id": "RyxWDsoV1X-f",
        "outputId": "55d17fbd-b818-47e8-ee2d-64a19d4ccc0d"
      },
      "execution_count": null,
      "outputs": [
        {
          "output_type": "stream",
          "name": "stdout",
          "text": [
            "Mounted at gdrive\n"
          ]
        }
      ]
    },
    {
      "cell_type": "code",
      "source": [
        "!cp /content/Data.csv -r /content/gdrive/MyDrive/COL334_Assignments"
      ],
      "metadata": {
        "id": "0r12DsTC1-s6"
      },
      "execution_count": null,
      "outputs": []
    },
    {
      "cell_type": "code",
      "source": [
        "!cp /content/Label.csv -r /content/gdrive/MyDrive/COL334_Assignments"
      ],
      "metadata": {
        "id": "wgUQDTGZ2YIE"
      },
      "execution_count": null,
      "outputs": []
    },
    {
      "cell_type": "code",
      "source": [
        "xdf = pd.read_csv('/content/gdrive/MyDrive/COL334_Assignments/Data.csv')"
      ],
      "metadata": {
        "id": "9JjDpWrq2fV3"
      },
      "execution_count": null,
      "outputs": []
    },
    {
      "cell_type": "code",
      "source": [
        "ydf = pd.read_csv('/content/gdrive/MyDrive/COL334_Assignments/Label.csv')"
      ],
      "metadata": {
        "id": "P9LlhJMF2lBk"
      },
      "execution_count": null,
      "outputs": []
    },
    {
      "cell_type": "code",
      "source": [
        "xdf.drop(columns = ['Unnamed: 0'], inplace = True)\n",
        "ydf.drop(columns = ['Unnamed: 0'], inplace = True)"
      ],
      "metadata": {
        "id": "q3ZaybHY8aXr"
      },
      "execution_count": null,
      "outputs": []
    },
    {
      "cell_type": "code",
      "source": [
        "M = 100\n",
        "data  = xdf.iloc[M].values\n",
        "data = data[1:]\n",
        "label = ydf.iloc[M].values\n",
        "label = label[1:]\n",
        "x = np.linspace(-1, 1, 201)\n",
        "plt.scatter(x, data, s= 1)\n",
        "x  = x[:-1]\n",
        "# plt.plot(x, label)\n",
        "for i, val in enumerate(x):\n",
        "  if label[i] == 1:\n",
        "    plt.axvline(val, linewidth = 1, ls = ':')\n",
        "\n",
        "plt.show()"
      ],
      "metadata": {
        "colab": {
          "base_uri": "https://localhost:8080/",
          "height": 268
        },
        "id": "9BoIhUK_2pif",
        "outputId": "d367b51c-4a4d-4cbb-b1aa-10f03f771789"
      },
      "execution_count": null,
      "outputs": [
        {
          "output_type": "display_data",
          "data": {
            "text/plain": [
              "<Figure size 432x288 with 1 Axes>"
            ],
            "image/png": "[encoded data removed]"
          },
          "metadata": {
            "needs_background": "light"
          }
        }
      ]
    },
    {
      "cell_type": "markdown",
      "source": [
        "# Model Implementation and Training"
      ],
      "metadata": {
        "id": "B6VrNKRMJfRh"
      }
    },
    {
      "cell_type": "code",
      "source": [
        "import tensorflow as tf\n",
        "from keras.layers import Conv1D, Dense, Input, Flatten\n",
        "from keras.models import Sequential\n",
        "def create_model(input_size=  201):\n",
        "  inp = Input(shape = (input_size, 1))\n",
        "  X = Conv1D(kernel_size = 2, filters = 24,activation = 'relu' )(inp)\n",
        "  X = Conv1D(kernel_size = 2, filters = 24, activation = 'relu')(X)\n",
        "  X = Conv1D(kernel_size = 2, filters = 24, activation = 'relu')(X)\n",
        "  X = Conv1D(kernel_size = 2, filters = 24, activation = 'relu')(X)\n",
        "  X = Flatten()(X)\n",
        "  X = Dense(input_size- 1, activation = 'sigmoid')(X)\n",
        "  model  = tf.keras.Model(inputs = inp, outputs = X)\n",
        "  return model"
      ],
      "metadata": {
        "id": "qdT9zLBq25Cy"
      },
      "execution_count": null,
      "outputs": []
    },
    {
      "cell_type": "code",
      "source": [
        "model = create_model()"
      ],
      "metadata": {
        "id": "hfOITugv7Si5"
      },
      "execution_count": null,
      "outputs": []
    },
    {
      "cell_type": "code",
      "source": [
        "model.summary()"
      ],
      "metadata": {
        "colab": {
          "base_uri": "https://localhost:8080/"
        },
        "id": "o09Jn8mD7d9K",
        "outputId": "6f651c41-6ea8-4479-dee7-c4fe3c63ec36"
      },
      "execution_count": null,
      "outputs": [
        {
          "output_type": "stream",
          "name": "stdout",
          "text": [
            "Model: \"model_1\"\n",
            "_________________________________________________________________\n",
            " Layer (type)                Output Shape              Param #   \n",
            "=================================================================\n",
            " input_2 (InputLayer)        [(None, 201, 1)]          0         \n",
            "                                                                 \n",
            " conv1d_4 (Conv1D)           (None, 200, 24)           72        \n",
            "                                                                 \n",
            " conv1d_5 (Conv1D)           (None, 199, 24)           1176      \n",
            "                                                                 \n",
            " conv1d_6 (Conv1D)           (None, 198, 24)           1176      \n",
            "                                                                 \n",
            " conv1d_7 (Conv1D)           (None, 197, 24)           1176      \n",
            "                                                                 \n",
            " flatten_1 (Flatten)         (None, 4728)              0         \n",
            "                                                                 \n",
            " dense_1 (Dense)             (None, 200)               945800    \n",
            "                                                                 \n",
            "=================================================================\n",
            "Total params: 949,400\n",
            "Trainable params: 949,400\n",
            "Non-trainable params: 0\n",
            "_________________________________________________________________\n"
          ]
        }
      ]
    },
    {
      "cell_type": "code",
      "source": [
        "model.compile(optimizer=tf.keras.optimizers.Adam(learning_rate=1e-3),\n",
        "              loss=tf.keras.losses.BinaryCrossentropy(),\n",
        "              metrics=[tf.keras.metrics.BinaryAccuracy(),\n",
        "                       tf.keras.metrics.FalseNegatives()])\n"
      ],
      "metadata": {
        "id": "Pk1yqIgX7zLC"
      },
      "execution_count": null,
      "outputs": []
    },
    {
      "cell_type": "code",
      "source": [
        "xdf.columns[0]"
      ],
      "metadata": {
        "colab": {
          "base_uri": "https://localhost:8080/",
          "height": 35
        },
        "id": "W_PLD48i8aez",
        "outputId": "08ae613e-f3b1-404a-92c5-304b0785c179"
      },
      "execution_count": null,
      "outputs": [
        {
          "output_type": "execute_result",
          "data": {
            "text/plain": [
              "'Unnamed: 0'"
            ],
            "application/vnd.google.colaboratory.intrinsic+json": {
              "type": "string"
            }
          },
          "metadata": {},
          "execution_count": 83
        }
      ]
    },
    {
      "cell_type": "code",
      "source": [
        "model.fit(\n",
        "    x=xdf,\n",
        "    y=ydf,\n",
        "    batch_size=64,\n",
        "    epochs=10,\n",
        "    \n",
        ")\n"
      ],
      "metadata": {
        "colab": {
          "base_uri": "https://localhost:8080/"
        },
        "id": "h5v4oGGP8Bmu",
        "outputId": "f6223b87-2e97-49ed-b6a7-826ef5d6d0d5"
      },
      "execution_count": null,
      "outputs": [
        {
          "output_type": "stream",
          "name": "stdout",
          "text": [
            "Epoch 1/10\n",
            "813/813 [==============================] - 31s 37ms/step - loss: 0.0311 - binary_accuracy: 0.9943 - false_negatives_1: 51172.0000\n",
            "Epoch 2/10\n",
            "813/813 [==============================] - 31s 38ms/step - loss: 0.0037 - binary_accuracy: 0.9992 - false_negatives_1: 7585.0000\n",
            "Epoch 3/10\n",
            "813/813 [==============================] - 31s 38ms/step - loss: 0.0015 - binary_accuracy: 0.9996 - false_negatives_1: 3234.0000\n",
            "Epoch 4/10\n",
            "813/813 [==============================] - 31s 38ms/step - loss: 7.9750e-04 - binary_accuracy: 0.9998 - false_negatives_1: 1727.0000\n",
            "Epoch 5/10\n",
            "813/813 [==============================] - 31s 38ms/step - loss: 5.4788e-04 - binary_accuracy: 0.9998 - false_negatives_1: 1182.0000\n",
            "Epoch 6/10\n",
            "813/813 [==============================] - 31s 38ms/step - loss: 3.9148e-04 - binary_accuracy: 0.9999 - false_negatives_1: 827.0000\n",
            "Epoch 7/10\n",
            "813/813 [==============================] - 31s 38ms/step - loss: 2.7883e-04 - binary_accuracy: 0.9999 - false_negatives_1: 591.0000\n",
            "Epoch 8/10\n",
            "813/813 [==============================] - 31s 38ms/step - loss: 2.1068e-04 - binary_accuracy: 0.9999 - false_negatives_1: 460.0000\n",
            "Epoch 9/10\n",
            "813/813 [==============================] - 30s 37ms/step - loss: 1.5614e-04 - binary_accuracy: 1.0000 - false_negatives_1: 328.0000\n",
            "Epoch 10/10\n",
            "813/813 [==============================] - 43s 53ms/step - loss: 1.5464e-04 - binary_accuracy: 1.0000 - false_negatives_1: 321.0000\n"
          ]
        },
        {
          "output_type": "execute_result",
          "data": {
            "text/plain": [
              "<keras.callbacks.History at 0x7f35e4335b10>"
            ]
          },
          "metadata": {},
          "execution_count": 91
        }
      ]
    },
    {
      "cell_type": "markdown",
      "source": [
        "# Model predictions"
      ],
      "metadata": {
        "id": "vsOho4YlJjtC"
      }
    },
    {
      "cell_type": "code",
      "source": [
        "data = xdf.iloc[M].values\n",
        "data = data.reshape((1,len(data), 1))\n",
        "pred = model.predict(data)"
      ],
      "metadata": {
        "id": "rFnHyvuJ8Qa4"
      },
      "execution_count": null,
      "outputs": []
    },
    {
      "cell_type": "code",
      "source": [
        "pred = pred.reshape(200, )"
      ],
      "metadata": {
        "id": "M7FO0hcBCkgJ"
      },
      "execution_count": null,
      "outputs": []
    },
    {
      "cell_type": "code",
      "source": [
        "data = data.reshape(201, )"
      ],
      "metadata": {
        "id": "wSEFEWaJC7oy"
      },
      "execution_count": null,
      "outputs": []
    },
    {
      "cell_type": "code",
      "source": [
        "x = np.linspace(-1, 1, 201)\n",
        "plt.scatter(x, data, s= 1)\n",
        "x = x[:-1]\n",
        "plt.plot(x, pred)\n",
        "plt.show()"
      ],
      "metadata": {
        "colab": {
          "base_uri": "https://localhost:8080/",
          "height": 268
        },
        "id": "XYOw05tmDC2O",
        "outputId": "20115a49-c7e1-43b3-a104-4d8bad92dbc2"
      },
      "execution_count": null,
      "outputs": [
        {
          "output_type": "display_data",
          "data": {
            "text/plain": [
              "<Figure size 432x288 with 1 Axes>"
            ],
            "image/png": "[encoded data removed]"
          },
          "metadata": {
            "needs_background": "light"
          }
        }
      ]
    },
    {
      "cell_type": "code",
      "source": [
        "data, label = a.generate()"
      ],
      "metadata": {
        "id": "xpHPPiHdDOZr"
      },
      "execution_count": null,
      "outputs": []
    },
    {
      "cell_type": "code",
      "source": [
        "data = np.array(data)\n",
        "data = data.reshape((1, len(data), 1))\n",
        "pred = model.predict(data)\n",
        "data = data.reshape(201, )\n",
        "pred = pred.reshape(200,)\n",
        "x = np.linspace(-1, 1, 201)\n",
        "plt.scatter(x, data, s = 1)\n",
        "x = x[:-1]\n",
        "plt.plot(x, pred)\n",
        "plt.show()"
      ],
      "metadata": {
        "colab": {
          "base_uri": "https://localhost:8080/",
          "height": 265
        },
        "id": "uKab6lUQDbaT",
        "outputId": "34ad5229-7137-471d-b8c1-2cc40650a552"
      },
      "execution_count": null,
      "outputs": [
        {
          "output_type": "display_data",
          "data": {
            "text/plain": [
              "<Figure size 432x288 with 1 Axes>"
            ],
            "image/png": "[encoded data removed]"
          },
          "metadata": {
            "needs_background": "light"
          }
        }
      ]
    },
    {
      "cell_type": "markdown",
      "source": [
        "# Saving the Model"
      ],
      "metadata": {
        "id": "hBr3cJXwJobm"
      }
    },
    {
      "cell_type": "code",
      "source": [
        "model.save('/content/gdrive/MyDrive/COL334_Assignments')"
      ],
      "metadata": {
        "id": "6JlDL2esEIke"
      },
      "execution_count": null,
      "outputs": []
    },
    {
      "cell_type": "code",
      "source": [
        "import tensorflow as tf\n",
        "\n",
        "kmodel = tf.keras.models.load_model('/content/gdrive/MyDrive/COL334_Assignments')"
      ],
      "metadata": {
        "id": "LUJVlRq8E1GS"
      },
      "execution_count": null,
      "outputs": []
    },
    {
      "cell_type": "code",
      "source": [
        "import matplotlib.pyplot as plt\n",
        "a = DiscontDataGenerator()\n",
        "data, label = a.generate()\n",
        "data = np.array(data)\n",
        "data = data.reshape((1, len(data), 1))\n",
        "pred = kmodel.predict(data)\n",
        "data = data.reshape(201, )\n",
        "pred = pred.reshape(200,)\n",
        "x = np.linspace(-1, 1, 201)\n",
        "plt.scatter(x, data, s = 1)\n",
        "x = x[:-1]\n",
        "plt.plot(x, pred)\n",
        "plt.show()"
      ],
      "metadata": {
        "colab": {
          "base_uri": "https://localhost:8080/",
          "height": 282
        },
        "id": "Ajz_hvAJFA38",
        "outputId": "4ea3284d-4d10-4d0e-8156-569f6f0c3fb3"
      },
      "execution_count": null,
      "outputs": [
        {
          "output_type": "stream",
          "name": "stdout",
          "text": [
            "1/1 [==============================] - 0s 18ms/step\n"
          ]
        },
        {
          "output_type": "display_data",
          "data": {
            "text/plain": [
              "<Figure size 432x288 with 1 Axes>"
            ],
            "image/png": "[encoded data removed]"
          },
          "metadata": {
            "needs_background": "light"
          }
        }
      ]
    },
    {
      "cell_type": "code",
      "source": [
        "kmodel.save('/content')"
      ],
      "metadata": {
        "id": "etPLV2PIFElY",
        "colab": {
          "base_uri": "https://localhost:8080/"
        },
        "outputId": "b5bb89b7-f1e6-4022-88db-17f494b12fc4"
      },
      "execution_count": null,
      "outputs": [
        {
          "output_type": "stream",
          "name": "stderr",
          "text": [
            "WARNING:absl:Found untraced functions such as _jit_compiled_convolution_op, _jit_compiled_convolution_op, _jit_compiled_convolution_op, _jit_compiled_convolution_op while saving (showing 4 of 4). These functions will not be directly callable after loading.\n"
          ]
        }
      ]
    },
    {
      "cell_type": "code",
      "source": [],
      "metadata": {
        "id": "1FpCzkIcc6ju"
      },
      "execution_count": null,
      "outputs": []
    }
  ]
}